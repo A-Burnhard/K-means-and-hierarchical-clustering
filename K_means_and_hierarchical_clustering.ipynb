{
  "nbformat": 4,
  "nbformat_minor": 0,
  "metadata": {
    "colab": {
      "provenance": [],
      "authorship_tag": "ABX9TyMpes1kNO2vZzX+smVKJtAD",
      "include_colab_link": true
    },
    "kernelspec": {
      "name": "python3",
      "display_name": "Python 3"
    },
    "language_info": {
      "name": "python"
    }
  },
  "cells": [
    {
      "cell_type": "markdown",
      "metadata": {
        "id": "view-in-github",
        "colab_type": "text"
      },
      "source": [
        "<a href=\"https://colab.research.google.com/github/A-Burnhard/K-means-clustering-on-wine-dataset/blob/main/K_means_and_hierarchical_clustering.ipynb\" target=\"_parent\"><img src=\"https://colab.research.google.com/assets/colab-badge.svg\" alt=\"Open In Colab\"/></a>"
      ]
    },
    {
      "cell_type": "code",
      "execution_count": 1,
      "metadata": {
        "id": "hGHnE1TBYWwr"
      },
      "outputs": [],
      "source": [
        "import pandas as pd\n",
        "from sklearn.cluster import KMeans\n",
        "from sklearn.preprocessing import StandardScaler"
      ]
    },
    {
      "cell_type": "code",
      "source": [
        "#Loading or importing  wine dataset to notebook\n",
        "cols = [\"class\", \"Alcohol\", \"Malicacid\", \"Ash\", \"Alcalinity_of_ash\", \"Magnesium\", \"Total_phenols\", \"Flavanoids\", \"Nonflavanoid_phenols\", \"Proanthocyanins\", \"Color_intensity\", \"Hue\", \"0D280_0D315_of_diluted_wines\", \"Proline\" ]\n",
        "wine_data = pd.read_csv(\"wine.data\", names = cols)\n",
        "wine_data.head()"
      ],
      "metadata": {
        "id": "VasiDQqAoMjW"
      },
      "execution_count": null,
      "outputs": []
    },
    {
      "cell_type": "code",
      "source": [
        "# Extract the input attributes (columns 1-13)\n",
        "X = wine_data.iloc[:, 1:14]\n",
        "print(X)"
      ],
      "metadata": {
        "id": "Dwen8wGlp4wR"
      },
      "execution_count": null,
      "outputs": []
    },
    {
      "cell_type": "markdown",
      "source": [
        "**Normalization of input attributes**"
      ],
      "metadata": {
        "id": "t5O0KhHnrOXC"
      }
    },
    {
      "cell_type": "code",
      "source": [
        "# Perform normalization on the input attributes\n",
        "scaler = StandardScaler()\n",
        "X_scaled = scaler.fit_transform(X)"
      ],
      "metadata": {
        "id": "iGXHFjxarFLd"
      },
      "execution_count": 12,
      "outputs": []
    }
  ]
}