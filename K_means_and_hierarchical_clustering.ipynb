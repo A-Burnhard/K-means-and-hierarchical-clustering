{
  "nbformat": 4,
  "nbformat_minor": 0,
  "metadata": {
    "colab": {
      "provenance": [],
      "authorship_tag": "ABX9TyMXEYfDJzuocbjljmWHkgyE",
      "include_colab_link": true
    },
    "kernelspec": {
      "name": "python3",
      "display_name": "Python 3"
    },
    "language_info": {
      "name": "python"
    }
  },
  "cells": [
    {
      "cell_type": "markdown",
      "metadata": {
        "id": "view-in-github",
        "colab_type": "text"
      },
      "source": [
        "<a href=\"https://colab.research.google.com/github/A-Burnhard/K-means-clustering-on-wine-dataset/blob/main/K_means_and_hierarchical_clustering.ipynb\" target=\"_parent\"><img src=\"https://colab.research.google.com/assets/colab-badge.svg\" alt=\"Open In Colab\"/></a>"
      ]
    },
    {
      "cell_type": "code",
      "execution_count": 1,
      "metadata": {
        "id": "hGHnE1TBYWwr"
      },
      "outputs": [],
      "source": [
        "import pandas as pd\n",
        "from sklearn.cluster import KMeans\n",
        "from sklearn.preprocessing import StandardScaler"
      ]
    },
    {
      "cell_type": "code",
      "source": [
        "#Loading or importing  wine dataset to notebook\n",
        "cols = [\"class\", \"Alcohol\", \"Malicacid\", \"Ash\", \"Alcalinity_of_ash\", \"Magnesium\", \"Total_phenols\", \"Flavanoids\", \"Nonflavanoid_phenols\", \"Proanthocyanins\", \"Color_intensity\", \"Hue\", \"0D280_0D315_of_diluted_wines\", \"Proline\" ]\n",
        "wine_data = pd.read_csv(\"wine.data\", names = cols)\n",
        "wine_data.head()"
      ],
      "metadata": {
        "id": "VasiDQqAoMjW"
      },
      "execution_count": null,
      "outputs": []
    },
    {
      "cell_type": "code",
      "source": [
        "# Extract the input attributes (columns 1-13)\n",
        "X = wine_data.iloc[:, 1:14]\n",
        "print(X)"
      ],
      "metadata": {
        "id": "Dwen8wGlp4wR"
      },
      "execution_count": null,
      "outputs": []
    },
    {
      "cell_type": "markdown",
      "source": [
        "**Normalization of input attributes**"
      ],
      "metadata": {
        "id": "t5O0KhHnrOXC"
      }
    },
    {
      "cell_type": "code",
      "source": [
        "# Perform normalization on the input attributes\n",
        "scaler = StandardScaler()\n",
        "X_scaled = scaler.fit_transform(X)\n"
      ],
      "metadata": {
        "id": "iGXHFjxarFLd"
      },
      "execution_count": null,
      "outputs": []
    },
    {
      "cell_type": "markdown",
      "source": [
        "**Defining K-values to try**"
      ],
      "metadata": {
        "id": "7K5b3n73sfZq"
      }
    },
    {
      "cell_type": "code",
      "source": [
        "# Define different K values to try\n",
        "k_values = [2, 3, 5]"
      ],
      "metadata": {
        "id": "UNnufWtRswOV"
      },
      "execution_count": 15,
      "outputs": []
    },
    {
      "cell_type": "markdown",
      "source": [
        "**Applying K-means clustering for each k value above and visualizing the results**"
      ],
      "metadata": {
        "id": "H7v6e5jLtKvQ"
      }
    },
    {
      "cell_type": "code",
      "source": [
        "import matplotlib.pyplot as plt\n",
        "\n",
        "# Apply K-means clustering for each K value\n",
        "for k in k_values:\n",
        "    # Create a K-means instance\n",
        "    kmeans = KMeans(n_clusters=k, random_state=42)\n",
        "\n",
        "    # Fit the model to the scaled data\n",
        "    kmeans.fit(X_scaled)\n",
        "\n",
        "    # Get the cluster labels for each data point\n",
        "    labels = kmeans.labels_\n",
        "\n",
        "    # Print the resulting solution for the current K value\n",
        "    #print(f\"K={k}: Cluster centers = {kmeans.cluster_centers_}\")\n",
        "    #print(f\"       Labels = {labels}\")\n",
        "    #print(\"\\n\")\n",
        "\n",
        "\n",
        "    plt.scatter(X.iloc[:, 0], X.iloc[:, 1], c=labels, cmap='viridis')\n",
        "    plt.scatter(kmeans.cluster_centers_[:, 0], kmeans.cluster_centers_[:, 1], marker='x', color='red')\n",
        "    plt.title(f\"K-means Clustering (K={k})\")\n",
        "    plt.xlabel(\"Attribute 1\")\n",
        "    plt.ylabel(\"Attribute 2\")\n",
        "    plt.show()"
      ],
      "metadata": {
        "id": "B7QiafRAtIB1"
      },
      "execution_count": null,
      "outputs": []
    },
    {
      "cell_type": "markdown",
      "source": [
        "**By setting K equal to the actual number of classes in the data set, we compare the cluster groupings with the actual class structure of the data points**"
      ],
      "metadata": {
        "id": "KN0S93LhwpSn"
      }
    },
    {
      "cell_type": "code",
      "source": [
        "# Get the actual class labels (column 0)\n",
        "actual_labels = wine_data.iloc[:,0]\n",
        "print(actual_labels)"
      ],
      "metadata": {
        "id": "Jqc36NUbxWiG"
      },
      "execution_count": null,
      "outputs": []
    },
    {
      "cell_type": "code",
      "source": [
        "from sklearn.metrics import adjusted_rand_score, adjusted_mutual_info_score, completeness_score\n",
        "\n",
        "# Set the value of K equal to the number of unique class labels\n",
        "k = len(actual_labels.unique())\n",
        "\n",
        "# Create a K-means instance\n",
        "kmeans = KMeans(n_clusters = k, random_state=42)\n",
        "\n",
        "# Fit the model to the scaled data\n",
        "kmeans.fit(X_scaled)\n",
        "\n",
        "# Get the cluster labels for each data point\n",
        "predicted_labels = kmeans.labels_\n",
        "\n",
        "# Get the cluster labels for each data point\n",
        "predicted_labels = kmeans.labels_\n",
        "\n",
        "# Compare the clustering results using evaluation metrics\n",
        "ari = adjusted_rand_score(actual_labels, predicted_labels)\n",
        "ami = adjusted_mutual_info_score(actual_labels, predicted_labels)\n",
        "completeness = completeness_score(actual_labels, predicted_labels)\n",
        "\n",
        "print(f\"Adjusted Rand Index (ARI): {ari}\")\n",
        "print(f\"Adjusted Mutual Information (AMI): {ami}\")\n",
        "print(f\"Completeness Score: {completeness}\")"
      ],
      "metadata": {
        "id": "ORbdMXucyE-Q",
        "outputId": "4cb235c4-1b1c-4d4e-b85b-b7fd3c92d55d",
        "colab": {
          "base_uri": "https://localhost:8080/"
        }
      },
      "execution_count": 29,
      "outputs": [
        {
          "output_type": "stream",
          "name": "stdout",
          "text": [
            "Adjusted Rand Index (ARI): 0.8974949815093207\n",
            "Adjusted Mutual Information (AMI): 0.8745794404379261\n",
            "Completeness Score: 0.8729636016078732\n"
          ]
        },
        {
          "output_type": "stream",
          "name": "stderr",
          "text": [
            "/usr/local/lib/python3.10/dist-packages/sklearn/cluster/_kmeans.py:870: FutureWarning: The default value of `n_init` will change from 10 to 'auto' in 1.4. Set the value of `n_init` explicitly to suppress the warning\n",
            "  warnings.warn(\n"
          ]
        }
      ]
    }
  ]
}